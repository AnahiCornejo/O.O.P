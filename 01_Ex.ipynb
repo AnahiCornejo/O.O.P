{
 "cells": [
  {
   "cell_type": "markdown",
   "metadata": {},
   "source": [
    "## Ejercicio 1"
   ]
  },
  {
   "cell_type": "markdown",
   "metadata": {},
   "source": [
    "<img src=\"Diagramas_clases/diag1.jpg\" alt=\"EX 1\" width=\"300\">\n"
   ]
  },
  {
   "cell_type": "code",
   "execution_count": 1,
   "metadata": {},
   "outputs": [],
   "source": [
    "class Employee:\n",
    "    # Esta es una variable de clase que será compartida entre todas las instancias de Employee.\n",
    "    # Se utiliza para asignar un nuevo ID único a cada empleado.\n",
    "    new_id = 1\n",
    "    \n",
    "    def __init__(self, name):\n",
    "        # Atributo de instancia que almacena el ID único del empleado.\n",
    "        self.id = Employee.new_id\n",
    "\n",
    "        # Incrementa la variable de clase new_id para que el próximo empleado tenga un ID único.\n",
    "        Employee.new_id += 1\n",
    "\n",
    "    def say_id(self):\n",
    "        print(f'Mi id es: {self.id}')\n"
   ]
  },
  {
   "cell_type": "code",
   "execution_count": 2,
   "metadata": {},
   "outputs": [
    {
     "name": "stdout",
     "output_type": "stream",
     "text": [
      "Mi id es: 1\n",
      "Mi id es: 2\n"
     ]
    }
   ],
   "source": [
    "Asael_Luces = Employee(\"Asael\")\n",
    "Citlali_traidora = Employee(\"Citlali\")\n",
    "\n",
    "Asael_Luces.say_id()                \n",
    "Citlali_traidora.say_id()"
   ]
  }
 ],
 "metadata": {
  "kernelspec": {
   "display_name": "Python 3",
   "language": "python",
   "name": "python3"
  },
  "language_info": {
   "codemirror_mode": {
    "name": "ipython",
    "version": 3
   },
   "file_extension": ".py",
   "mimetype": "text/x-python",
   "name": "python",
   "nbconvert_exporter": "python",
   "pygments_lexer": "ipython3",
   "version": "3.12.5"
  }
 },
 "nbformat": 4,
 "nbformat_minor": 2
}
