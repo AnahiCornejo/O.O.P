{
 "cells": [
  {
   "cell_type": "markdown",
   "metadata": {},
   "source": [
    "## Ejercicio 1"
   ]
  },
  {
   "cell_type": "code",
   "execution_count": 47,
   "metadata": {},
   "outputs": [],
   "source": [
    "class Employee:\n",
    "    new_id = 1\n",
    "    \n",
    "    def __init__(self, name):\n",
    "        self.id = Employee.new_id\n",
    "        Employee.new_id += 1\n",
    "\n",
    "    def say_id(self):\n",
    "        print(f'Mi id es: {self.id}')"
   ]
  },
  {
   "cell_type": "code",
   "execution_count": 48,
   "metadata": {},
   "outputs": [
    {
     "name": "stdout",
     "output_type": "stream",
     "text": [
      "Mi id es: 1\n",
      "Mi id es: 2\n"
     ]
    }
   ],
   "source": [
    "Asael_Luces = Employee(\"Asael\")\n",
    "Citlali_traidora = Employee(\"Citlali\")\n",
    "\n",
    "Asael_Luces.say_id()                \n",
    "Citlali_traidora.say_id()"
   ]
  },
  {
   "cell_type": "markdown",
   "metadata": {},
   "source": [
    "## Ejercicio 2"
   ]
  },
  {
   "cell_type": "code",
   "execution_count": 55,
   "metadata": {},
   "outputs": [],
   "source": [
    "class animal:\n",
    "    def __init__(self, name):\n",
    "        self.name = name\n",
    "    \n",
    "    def say_name(self):\n",
    "        print(f'Mi nombre es: {self.name}')\n",
    "\n",
    "    def eat(self):\n",
    "        print(f' Jummy Jummy! estoy comiendo')\n",
    "\n",
    "class Cat(animal):\n",
    "    def meow(self):\n",
    "        print('Soy un gato y hago miau')\n",
    "\n",
    "class Dog(animal):\n",
    "    def bark(self):\n",
    "        print('Soy perro y hago guaf guaf')"
   ]
  },
  {
   "cell_type": "code",
   "execution_count": 56,
   "metadata": {},
   "outputs": [
    {
     "name": "stdout",
     "output_type": "stream",
     "text": [
      "Soy perro y hago guaf guaf\n",
      " Jummy Jummy! estoy comiendo\n",
      "Mi nombre es: Solo Vino\n",
      "Soy un gato y hago miau\n",
      " Jummy Jummy! estoy comiendo\n",
      "Mi nombre es: Felix\n"
     ]
    }
   ],
   "source": [
    "Solo_Vino = Dog(\"Solo Vino\")\n",
    "Solo_Vino.bark()\n",
    "Solo_Vino.eat()\n",
    "Solo_Vino.say_name()\n",
    "\n",
    "Felix = Cat(\"Felix\")\n",
    "Felix.meow()\n",
    "Felix.eat()\n",
    "Felix.say_name()"
   ]
  },
  {
   "cell_type": "markdown",
   "metadata": {},
   "source": [
    "## Ejercicio 3\n"
   ]
  },
  {
   "cell_type": "code",
   "execution_count": 52,
   "metadata": {},
   "outputs": [],
   "source": [
    "class Employee:\n",
    "    new_id = 1\n",
    "    \n",
    "    def __init__(self):\n",
    "        self.id = Employee.new_id\n",
    "        Employee.new_id += 1\n",
    "        \n",
    "    def say_id(self):\n",
    "        print(f\"Mi id es: {self.id}\")\n",
    "        \n",
    "class Admin(Employee):\n",
    "    def say_id(self):\n",
    "        super().say_id()\n",
    "        print(f'Soy un administrador')\n",
    "\n",
    "class Manager(Admin):\n",
    "    def say_id(self):\n",
    "        print(f'Soy un manager y estoy a cargo')    "
   ]
  },
  {
   "cell_type": "code",
   "execution_count": 54,
   "metadata": {},
   "outputs": [
    {
     "name": "stdout",
     "output_type": "stream",
     "text": [
      "Mi id es: 3\n",
      "Mi id es: 4\n",
      "Soy un administrador\n",
      "Soy un manager y estoy a cargo\n"
     ]
    }
   ],
   "source": [
    "Juan = Employee()\n",
    "Juan.say_id()\n",
    "\n",
    "Pedro = Admin()\n",
    "Pedro.say_id()\n",
    "\n",
    "Martin = Manager()\n",
    "Martin.say_id()"
   ]
  },
  {
   "cell_type": "markdown",
   "metadata": {},
   "source": [
    "## Ejercicio 4"
   ]
  },
  {
   "cell_type": "code",
   "execution_count": 85,
   "metadata": {},
   "outputs": [],
   "source": [
    "class animal:\n",
    "    def __init__(self, name):\n",
    "        self.name = name\n",
    "\n",
    "    def eat(self):\n",
    "        print(f' Jummy Jummy! estoy comiendo')\n",
    "\n",
    "    def make_noise(self):\n",
    "        print(f'{self.name} hago Grrr')    \n",
    "\n",
    "class Cat(animal):\n",
    "    def meow(self):\n",
    "        print('Soy un gato y hago miau')\n",
    "    def make_noise(self):\n",
    "        print(f'{self.name} hago Prrr')   \n",
    "\n",
    "class Dog(animal):\n",
    "    def bark(self):\n",
    "        print('Soy perro y hago gua gua')\n",
    "\n"
   ]
  },
  {
   "cell_type": "code",
   "execution_count": 86,
   "metadata": {},
   "outputs": [
    {
     "name": "stdout",
     "output_type": "stream",
     "text": [
      "Soy un gato y hago miau\n",
      " Jummy Jummy! estoy comiendo\n",
      "Kitty hago Prrr\n",
      "Negro hago Grrr\n",
      "Soy perro y hago gua gua\n",
      " Jummy Jummy! estoy comiendo\n"
     ]
    }
   ],
   "source": [
    "Negro = Cat(\"Negro\")\n",
    "Negro.meow()\n",
    "Negro.eat()\n",
    "Negro.make_noise()\n",
    "\n",
    "Kitty = Dog(\"Kitty\")\n",
    "Kitty.make_noise()\n",
    "Kitty.bark()\n",
    "Kitty.eat()\n"
   ]
  }
 ],
 "metadata": {
  "kernelspec": {
   "display_name": "Python 3",
   "language": "python",
   "name": "python3"
  },
  "language_info": {
   "codemirror_mode": {
    "name": "ipython",
    "version": 3
   },
   "file_extension": ".py",
   "mimetype": "text/x-python",
   "name": "python",
   "nbconvert_exporter": "python",
   "pygments_lexer": "ipython3",
   "version": "3.12.5"
  }
 },
 "nbformat": 4,
 "nbformat_minor": 2
}
