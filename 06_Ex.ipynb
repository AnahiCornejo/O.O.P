{
 "cells": [
  {
   "cell_type": "markdown",
   "metadata": {},
   "source": [
    "## Ejercicio 6"
   ]
  },
  {
   "cell_type": "markdown",
   "metadata": {},
   "source": [
    "<img src=\"Diagramas_clases/diag6.jpg\" alt=\"EX 1\" width=\"300\">\n"
   ]
  },
  {
   "cell_type": "markdown",
   "metadata": {},
   "source": [
    "## Clase Employee\n",
    "- *int id*: Atributo de instancia. Identifica de manera unica a cada instancia de Employee.\n",
    "- *int new_id*: Atributo de clase. Identificador unico.\n",
    "- *void say_id()*: Imprime 'Mi id es: {self.id}.\n",
    "\n",
    "## Clase User\n",
    "- *str role*: Atributo de instancia. Funcion de User p.ej.\n",
    "    - Administrador\n",
    "    - Manager\n",
    "    - Usuario\n",
    "- *str username*: Atributo de instancia. Nombre del usuario.\n",
    "- *void say_user_info()*: Imprime 'Mi nombre es {self.username} y soy {self.role}.'.\n",
    "\n",
    "## Clase Admin\n",
    "- *void say_id()*: Imprime:\n",
    "    - 'Mi id es: {self.id}.\n",
    "    - 'Soy un Administrador \\\\(0-0)/'.\n",
    "    \n",
    "## Clase Manager\n",
    "- *void say_id()*: Imprime:\n",
    "    - 'Mi id es: {self.id}.\n",
    "    - 'Soy un Administrador \\\\(0-0)/'.    \n",
    "    - 'Y estoy al mando'"
   ]
  },
  {
   "cell_type": "code",
   "execution_count": null,
   "metadata": {},
   "outputs": [],
   "source": [
    "class id(Employee):\n",
    "    def __init__(id,new_id):\n",
    "        self.id = id\n",
    "        self.new_id = new_id\n",
    "        \n",
    "    def say_id(self):\n",
    "        print(f'Mi id es: {self.id}')\n",
    "    "
   ]
  },
  {
   "cell_type": "code",
   "execution_count": null,
   "metadata": {},
   "outputs": [],
   "source": []
  },
  {
   "cell_type": "code",
   "execution_count": null,
   "metadata": {},
   "outputs": [],
   "source": [
    "class User(Employee):\n",
    "    )"
   ]
  },
  {
   "cell_type": "code",
   "execution_count": null,
   "metadata": {},
   "outputs": [],
   "source": []
  }
 ],
 "metadata": {
  "kernelspec": {
   "display_name": "Python 3",
   "language": "python",
   "name": "python3"
  },
  "language_info": {
   "codemirror_mode": {
    "name": "ipython",
    "version": 3
   },
   "file_extension": ".py",
   "mimetype": "text/x-python",
   "name": "python",
   "nbconvert_exporter": "python",
   "pygments_lexer": "ipython3",
   "version": "3.12.5"
  }
 },
 "nbformat": 4,
 "nbformat_minor": 2
}
