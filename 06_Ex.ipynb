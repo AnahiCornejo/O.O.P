{
 "cells": [
  {
   "cell_type": "markdown",
   "metadata": {},
   "source": [
    "## Ejercicio 6."
   ]
  },
  {
   "cell_type": "markdown",
   "metadata": {},
   "source": [
    "<img src=\"Diagramas_clases/diag6.jpg\" alt=\"EX 1\" width=\"300\">\n"
   ]
  },
  {
   "cell_type": "markdown",
   "metadata": {},
   "source": [
    "## Clase Employee\n",
    "- *int id*: Atributo de instancia. Identifica de manera unica a cada instancia de Employee.\n",
    "- *int new_id*: Atributo de clase. Identificador unico.\n",
    "- *void say_id()*: Imprime 'Mi id es: {self.id}."
   ]
  },
  {
   "cell_type": "code",
   "execution_count": 10,
   "metadata": {},
   "outputs": [],
   "source": [
    "class Employee:\n",
    "    new_id = 1\n",
    "    \n",
    "    def __init__(self, name):\n",
    "        self.id = Employee.new_id\n",
    "        Employee.new_id += 1\n",
    "\n",
    "    def say_id(self):\n",
    "        print(f'Mi id es: {self.id}')\n",
    "    "
   ]
  },
  {
   "cell_type": "code",
   "execution_count": 12,
   "metadata": {},
   "outputs": [
    {
     "name": "stdout",
     "output_type": "stream",
     "text": [
      "Mi id es: 1\n"
     ]
    }
   ],
   "source": [
    "Juan = Employee(' Juan')\n",
    "Juan.say_id()"
   ]
  },
  {
   "cell_type": "markdown",
   "metadata": {},
   "source": [
    "## Clase User\n",
    "- *str role*: Atributo de instancia. Funcion de User p.ej.\n",
    "    - Administrador\n",
    "    - Manager\n",
    "    - Usuario\n",
    "- *str username*: Atributo de instancia. Nombre del usuario.\n",
    "- *void say_user_info()*: Imprime 'Mi nombre es {self.username} y soy {self.role}.'."
   ]
  },
  {
   "cell_type": "code",
   "execution_count": 1,
   "metadata": {},
   "outputs": [],
   "source": [
    "class User:\n",
    "    def __init__(self, username,role):\n",
    "        self.role = role\n",
    "        self.username = username\n",
    "    \n",
    "    def say_user_info(self):\n",
    "        print(f'Mi nombre es{self.username} y soy {self.role}') "
   ]
  },
  {
   "cell_type": "code",
   "execution_count": 3,
   "metadata": {},
   "outputs": [
    {
     "name": "stdout",
     "output_type": "stream",
     "text": [
      "Mi nombre es Juan y soy Administrador\n"
     ]
    }
   ],
   "source": [
    "Juan = User(role='Administrador', username=' Juan')\n",
    "Juan.say_user_info()"
   ]
  },
  {
   "cell_type": "markdown",
   "metadata": {},
   "source": [
    "## Clase Admin\n",
    "- *void say_id()*: Imprime:\n",
    "    - 'Mi id es: {self.id}.\n",
    "    - 'Soy un Administrador \\\\(0-0)/'."
   ]
  },
  {
   "cell_type": "code",
   "execution_count": 14,
   "metadata": {},
   "outputs": [],
   "source": [
    "class Admin:\n",
    "    def __init__(self,admin_id):\n",
    "        self.id = admin_id\n",
    "\n",
    "    def say_id(self):\n",
    "        print(f'Mi id es {self.id}')\n",
    "        print('Soy un administrador')    "
   ]
  },
  {
   "cell_type": "code",
   "execution_count": 16,
   "metadata": {},
   "outputs": [
    {
     "name": "stdout",
     "output_type": "stream",
     "text": [
      "Mi id es admin_id= 71362\n",
      "Soy un administrador\n"
     ]
    }
   ],
   "source": [
    "admin = Admin('admin_id= 71362')\n",
    "admin.say_id()"
   ]
  },
  {
   "cell_type": "markdown",
   "metadata": {},
   "source": [
    "\n",
    "\n",
    "\n",
    "\n",
    "\n",
    "    \n",
    "## Clase Manager\n",
    "- *void say_id()*: Imprime:\n",
    "    - 'Mi id es: {self.id}.\n",
    "    - 'Soy un Administrador \\\\(0-0)/'.    \n",
    "    - 'Y estoy al mando'"
   ]
  },
  {
   "cell_type": "code",
   "execution_count": 29,
   "metadata": {},
   "outputs": [],
   "source": [
    "class Manager:\n",
    "    def __init__(self,manager_id):\n",
    "        self.id = manager_id  \n",
    "\n",
    "    def say_id(self): \n",
    "        print(f'Mi ide es {self.id}')\n",
    "        print('Soy un Administrador \\\\(0-0)/')\n",
    "        print('Y estoy al mando')  \n"
   ]
  },
  {
   "cell_type": "code",
   "execution_count": 30,
   "metadata": {},
   "outputs": [
    {
     "name": "stdout",
     "output_type": "stream",
     "text": [
      "Mi ide es 67890\n",
      "Soy un Administrador \\(0-0)/\n",
      "Y estoy al mando\n"
     ]
    }
   ],
   "source": [
    "manager = Manager(manager_id=67890)\n",
    "manager.say_id()"
   ]
  }
 ],
 "metadata": {
  "kernelspec": {
   "display_name": "Python 3",
   "language": "python",
   "name": "python3"
  },
  "language_info": {
   "codemirror_mode": {
    "name": "ipython",
    "version": 3
   },
   "file_extension": ".py",
   "mimetype": "text/x-python",
   "name": "python",
   "nbconvert_exporter": "python",
   "pygments_lexer": "ipython3",
   "version": "3.12.5"
  }
 },
 "nbformat": 4,
 "nbformat_minor": 2
}
