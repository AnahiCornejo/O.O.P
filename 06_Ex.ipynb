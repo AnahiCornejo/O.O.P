{
 "cells": [
  {
   "cell_type": "markdown",
   "metadata": {},
   "source": [
    "## Ejercicio 6."
   ]
  },
  {
   "cell_type": "markdown",
   "metadata": {},
   "source": [
    "<img src=\"Diagramas_clases/diag6.jpg\" alt=\"EX 1\" width=\"300\">\n"
   ]
  },
  {
   "cell_type": "markdown",
   "metadata": {},
   "source": [
    "## Clase Employee\n",
    "- *int id*: Atributo de instancia. Identifica de manera unica a cada instancia de Employee.\n",
    "- *int new_id*: Atributo de clase. Identificador unico.\n",
    "- *void say_id()*: Imprime 'Mi id es: {self.id}."
   ]
  },
  {
   "cell_type": "code",
   "execution_count": 17,
   "metadata": {},
   "outputs": [],
   "source": [
    "class Employee:\n",
    "    new_id = 1 # Atributo de clase. Identificador unico.Lo inicializo a partir del 1\n",
    "    \n",
    "    def __init__(self):\n",
    "        self.id = Employee.new_id\n",
    "        Employee.new_id += 1 # +=1 Para que valla aumentando de uno en uno\n",
    "  \n",
    "\n",
    "    def say_id(self): #El metodo que manda a llamar para imprimir \n",
    "        print(f'Mi id es: {self.id}')\n",
    "       "
   ]
  },
  {
   "cell_type": "code",
   "execution_count": 19,
   "metadata": {},
   "outputs": [
    {
     "name": "stdout",
     "output_type": "stream",
     "text": [
      "Mi id es: 2\n"
     ]
    }
   ],
   "source": [
    "Juan = Employee()\n",
    "Juan.say_id()"
   ]
  },
  {
   "cell_type": "markdown",
   "metadata": {},
   "source": [
    "## Clase User\n",
    "- *str role*: Atributo de instancia. Funcion de User p.ej.\n",
    "    - Administrador\n",
    "    - Manager\n",
    "    - Usuario\n",
    "- *str username*: Atributo de instancia. Nombre del usuario.\n",
    "- *void say_user_info()*: Imprime 'Mi nombre es {self.username} y soy {self.role}.'."
   ]
  },
  {
   "cell_type": "code",
   "execution_count": 20,
   "metadata": {},
   "outputs": [],
   "source": [
    "class User:\n",
    "    def __init__(self, username,role):\n",
    "        self.role = role # Role que hace en la empresa \n",
    "        self.username = username #Nombre del usuario\n",
    "    \n",
    "    def say_user_info(self):\n",
    "        print(f'Mi nombre es{self.username} y soy el{self.role}') "
   ]
  },
  {
   "cell_type": "code",
   "execution_count": 21,
   "metadata": {},
   "outputs": [
    {
     "name": "stdout",
     "output_type": "stream",
     "text": [
      "Mi nombre es Juan  y soy el Administrador\n"
     ]
    }
   ],
   "source": [
    "Juan = User(username=' Juan ', role=' Administrador')\n",
    "Juan.say_user_info()"
   ]
  },
  {
   "cell_type": "markdown",
   "metadata": {},
   "source": [
    "## Clase Admin\n",
    "- *void say_id()*: Imprime:\n",
    "    - 'Mi id es: {self.id}.\n",
    "    - 'Soy un Administrador \\\\(0-0)/'."
   ]
  },
  {
   "cell_type": "code",
   "execution_count": 68,
   "metadata": {},
   "outputs": [],
   "source": [
    "class Admin(Employee, User):\n",
    "    def __init__(self, username):\n",
    "        super().__init__(username, \"Administrador\")\n",
    "        \n",
    "        def say_id(self):\n",
    "            super().say_id()\n",
    "            print('y soy el administrador')    "
   ]
  },
  {
   "cell_type": "code",
   "execution_count": 69,
   "metadata": {},
   "outputs": [
    {
     "ename": "TypeError",
     "evalue": "Employee.__init__() takes 1 positional argument but 3 were given",
     "output_type": "error",
     "traceback": [
      "\u001b[1;31m---------------------------------------------------------------------------\u001b[0m",
      "\u001b[1;31mTypeError\u001b[0m                                 Traceback (most recent call last)",
      "Cell \u001b[1;32mIn[69], line 1\u001b[0m\n\u001b[1;32m----> 1\u001b[0m admin \u001b[38;5;241m=\u001b[39m \u001b[43mAdmin\u001b[49m\u001b[43m(\u001b[49m\u001b[38;5;124;43m\"\u001b[39;49m\u001b[38;5;124;43mJuan\u001b[39;49m\u001b[38;5;124;43m\"\u001b[39;49m\u001b[43m)\u001b[49m\n\u001b[0;32m      2\u001b[0m admin\u001b[38;5;241m.\u001b[39msay_id()\n\u001b[0;32m      3\u001b[0m admin\u001b[38;5;241m.\u001b[39msay_user_info()\n",
      "Cell \u001b[1;32mIn[68], line 3\u001b[0m, in \u001b[0;36mAdmin.__init__\u001b[1;34m(self, username)\u001b[0m\n\u001b[0;32m      2\u001b[0m \u001b[38;5;28;01mdef\u001b[39;00m \u001b[38;5;21m__init__\u001b[39m(\u001b[38;5;28mself\u001b[39m, username):\n\u001b[1;32m----> 3\u001b[0m     \u001b[38;5;28;43msuper\u001b[39;49m\u001b[43m(\u001b[49m\u001b[43m)\u001b[49m\u001b[38;5;241;43m.\u001b[39;49m\u001b[38;5;21;43m__init__\u001b[39;49m\u001b[43m(\u001b[49m\u001b[43musername\u001b[49m\u001b[43m,\u001b[49m\u001b[43m \u001b[49m\u001b[38;5;124;43m\"\u001b[39;49m\u001b[38;5;124;43mAdministrador\u001b[39;49m\u001b[38;5;124;43m\"\u001b[39;49m\u001b[43m)\u001b[49m\n\u001b[0;32m      5\u001b[0m     \u001b[38;5;28;01mdef\u001b[39;00m \u001b[38;5;21msay_id\u001b[39m(\u001b[38;5;28mself\u001b[39m):\n\u001b[0;32m      6\u001b[0m         \u001b[38;5;28msuper\u001b[39m()\u001b[38;5;241m.\u001b[39msay_id()\n",
      "\u001b[1;31mTypeError\u001b[0m: Employee.__init__() takes 1 positional argument but 3 were given"
     ]
    }
   ],
   "source": [
    "admin = Admin(\"Juan\")\n",
    "admin.say_id()\n",
    "admin.say_user_info()"
   ]
  },
  {
   "cell_type": "markdown",
   "metadata": {},
   "source": [
    "\n",
    "\n",
    "\n",
    "\n",
    "\n",
    "    \n",
    "## Clase Manager\n",
    "- *void say_id()*: Imprime:\n",
    "    - 'Mi id es: {self.id}.\n",
    "    - 'Soy un Administrador \\\\(0-0)/'.    \n",
    "    - 'Y estoy al mando'"
   ]
  },
  {
   "cell_type": "code",
   "execution_count": 29,
   "metadata": {},
   "outputs": [],
   "source": [
    "class Manager:\n",
    "    def __init__(self,manager_id):\n",
    "        self.id = manager_id  \n",
    "\n",
    "    def say_id(self): \n",
    "        print(f'Mi ide es {self.id}')\n",
    "        print('Soy un Administrador \\\\(0-0)/')\n",
    "        print('Y estoy al mando')  \n"
   ]
  },
  {
   "cell_type": "code",
   "execution_count": 30,
   "metadata": {},
   "outputs": [
    {
     "name": "stdout",
     "output_type": "stream",
     "text": [
      "Mi ide es 67890\n",
      "Soy un Administrador \\(0-0)/\n",
      "Y estoy al mando\n"
     ]
    }
   ],
   "source": [
    "manager = Manager(manager_id=67890)\n",
    "manager.say_id()"
   ]
  }
 ],
 "metadata": {
  "kernelspec": {
   "display_name": "Python 3",
   "language": "python",
   "name": "python3"
  },
  "language_info": {
   "codemirror_mode": {
    "name": "ipython",
    "version": 3
   },
   "file_extension": ".py",
   "mimetype": "text/x-python",
   "name": "python",
   "nbconvert_exporter": "python",
   "pygments_lexer": "ipython3",
   "version": "3.12.5"
  }
 },
 "nbformat": 4,
 "nbformat_minor": 2
}
