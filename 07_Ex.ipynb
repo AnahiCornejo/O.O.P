{
 "cells": [
  {
   "cell_type": "markdown",
   "metadata": {},
   "source": [
    "## Ejercicio 7"
   ]
  },
  {
   "cell_type": "code",
   "execution_count": 19,
   "metadata": {},
   "outputs": [],
   "source": [
    "class Persona:\n",
    "    def __init__(self, nombre, apellido_paterno, apellido_materno):\n",
    "        self.nombre = nombre.capitalize()\n",
    "        self.apellido_paterno = apellido_paterno.capitalize()\n",
    "        self.apellido_materno = apellido_materno.capitalize()\n",
    "\n",
    "#Metodo\n",
    "    def full_name(self):\n",
    "        return f\"{self.nombre} {self.apellido_paterno} {self.apellido_materno}\"\n",
    "\n",
    "\n"
   ]
  },
  {
   "cell_type": "code",
   "execution_count": 20,
   "metadata": {},
   "outputs": [
    {
     "data": {
      "text/plain": [
       "'Juan Pérez García'"
      ]
     },
     "execution_count": 20,
     "metadata": {},
     "output_type": "execute_result"
    }
   ],
   "source": [
    "persona = Persona(\"juan\", \"pérez\", \"GARCÍA\")\n",
    "persona.full_name()"
   ]
  },
  {
   "cell_type": "code",
   "execution_count": 3,
   "metadata": {},
   "outputs": [],
   "source": [
    "class persona:\n",
    "    def _init_(self, name, apellido):\n",
    "        self.name = name.title().strip()  \n",
    "        self.apellido = apellido.title().strip()\n",
    "\n",
    "    def full_name(self):\n",
    "        print(f\"Mi nombres es: {self.name} {self.apellido}\")"
   ]
  },
  {
   "cell_type": "code",
   "execution_count": 11,
   "metadata": {},
   "outputs": [
    {
     "name": "stdout",
     "output_type": "stream",
     "text": [
      "Juan Perez García\n"
     ]
    }
   ],
   "source": [
    "\n",
    "persona = Persona(\"JUAN\", \"PEREZ\", \"GARCÍA\")\n",
    "persona.full_name()"
   ]
  }
 ],
 "metadata": {
  "kernelspec": {
   "display_name": "Python 3",
   "language": "python",
   "name": "python3"
  },
  "language_info": {
   "codemirror_mode": {
    "name": "ipython",
    "version": 3
   },
   "file_extension": ".py",
   "mimetype": "text/x-python",
   "name": "python",
   "nbconvert_exporter": "python",
   "pygments_lexer": "ipython3",
   "version": "3.12.5"
  }
 },
 "nbformat": 4,
 "nbformat_minor": 2
}
