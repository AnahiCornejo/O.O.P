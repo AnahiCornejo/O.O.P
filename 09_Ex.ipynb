{
 "cells": [
  {
   "cell_type": "markdown",
   "metadata": {},
   "source": [
    "## Ejercicio 9"
   ]
  },
  {
   "cell_type": "code",
   "execution_count": 31,
   "metadata": {},
   "outputs": [],
   "source": [
    "class Horas:\n",
    "    def _init_(self, horas, minutos, segundos):\n",
    "        self.horas = horas\n",
    "        self.minutos = minutos\n",
    "        self.segundos = segundos\n",
    "\n",
    "    def total_segundos(self):\n",
    "        return self.horas * 3600 + self.minutos * 60 + self.segundos\n",
    "\n",
    "    def _str_(self):\n",
    "        return f\"{self.horas:02}:{self.minutos:02}:{self.segundos:02}\""
   ]
  },
  {
   "cell_type": "code",
   "execution_count": 30,
   "metadata": {},
   "outputs": [
    {
     "name": "stdout",
     "output_type": "stream",
     "text": [
      "<__main__.Horas object at 0x0000018524420230>\n",
      "67396\n"
     ]
    }
   ],
   "source": [
    "tiempo_instance = Horas(18, 43, 16)\n",
    "print(tiempo_instance)                \n",
    "print(tiempo_instance.total_segundos())\n"
   ]
  }
 ],
 "metadata": {
  "kernelspec": {
   "display_name": "Python 3",
   "language": "python",
   "name": "python3"
  },
  "language_info": {
   "codemirror_mode": {
    "name": "ipython",
    "version": 3
   },
   "file_extension": ".py",
   "mimetype": "text/x-python",
   "name": "python",
   "nbconvert_exporter": "python",
   "pygments_lexer": "ipython3",
   "version": "3.12.5"
  }
 },
 "nbformat": 4,
 "nbformat_minor": 2
}
