{
 "cells": [
  {
   "cell_type": "markdown",
   "metadata": {},
   "source": [
    "## Ejercicio 5"
   ]
  },
  {
   "cell_type": "markdown",
   "metadata": {},
   "source": [
    "<img src=\"Diagramas_clases/diag5.jpg\" alt=\"EX 1\" width=\"300\">\n"
   ]
  },
  {
   "cell_type": "markdown",
   "metadata": {},
   "source": [
    "## Clase animal\n",
    "- **str name**: Atributo de instancia. Nombre del animal.\n",
    "- **void eat()**: Imprime 'Yummy yummy! estoy comiendo'\n",
    "- **void make_noise()**: Imprime '{self.name}hace Grrr!.'."
   ]
  },
  {
   "cell_type": "code",
   "execution_count": 11,
   "metadata": {},
   "outputs": [],
   "source": [
    "class Animal:\n",
    "    def __init__(self,name):\n",
    "        self.name = name\n",
    "\n",
    "    def eat(self):\n",
    "        print('Yummy yummy! esoy comiendo.')\n",
    "\n",
    "    def make_noise(self):\n",
    "        print(f'{self.name}hace Grrr.')        "
   ]
  },
  {
   "cell_type": "code",
   "execution_count": 12,
   "metadata": {},
   "outputs": [
    {
     "name": "stdout",
     "output_type": "stream",
     "text": [
      "Yummy yummy! esoy comiendo.\n",
      "Negro hace Grrr.\n"
     ]
    }
   ],
   "source": [
    "Negro = Animal('Negro ')\n",
    "Negro.eat()\n",
    "Negro.make_noise()"
   ]
  },
  {
   "cell_type": "markdown",
   "metadata": {},
   "source": [
    "## **Clase Cat**\n"
   ]
  },
  {
   "cell_type": "markdown",
   "metadata": {},
   "source": [
    "\n",
    "- **void make_noisy()**: Imprime '{self.name} Rrrrr'.\n",
    "- **void meow()**: Imprime 'Soy un gato y hago meow'."
   ]
  },
  {
   "cell_type": "code",
   "execution_count": 22,
   "metadata": {},
   "outputs": [],
   "source": [
    "class Cat(Animal):\n",
    "    def make_noise(self):\n",
    "        print(f'{self.name} hacer Rrrrrr')\n",
    "\n",
    "    def meow(self):\n",
    "        print('Soy un gato y hago Meow')    "
   ]
  },
  {
   "cell_type": "code",
   "execution_count": 23,
   "metadata": {},
   "outputs": [
    {
     "name": "stdout",
     "output_type": "stream",
     "text": [
      "Yummy yummy! esoy comiendo.\n",
      "Michu  hacer Rrrrrr\n",
      "Soy un gato y hago Meow\n"
     ]
    }
   ],
   "source": [
    "Michu = Cat('Michu ')\n",
    "Michu.eat()\n",
    "Michu.make_noise()\n",
    "Michu.meow()"
   ]
  },
  {
   "cell_type": "markdown",
   "metadata": {},
   "source": [
    "## **Clase Dog**"
   ]
  },
  {
   "cell_type": "markdown",
   "metadata": {},
   "source": [
    "- **Void action()**: Imprime '{self.name} mueve la cola'\n",
    "- **void bark()**: Imprime 'Soy un perro y hago woof woof'"
   ]
  },
  {
   "cell_type": "code",
   "execution_count": 27,
   "metadata": {},
   "outputs": [],
   "source": [
    "class Dog(Animal):\n",
    "    def action(self):\n",
    "        print(f'{self.name} mueve la cola')\n",
    "\n",
    "    def bark(self):\n",
    "        print('Soy un perro y hago woof woof!')    "
   ]
  },
  {
   "cell_type": "code",
   "execution_count": 28,
   "metadata": {},
   "outputs": [
    {
     "name": "stdout",
     "output_type": "stream",
     "text": [
      "Firu  mueve la cola\n",
      "Soy un perro y hago woof woof!\n",
      "Yummy yummy! esoy comiendo.\n",
      "Firu hace Grrr.\n"
     ]
    }
   ],
   "source": [
    "Firu = Dog('Firu ')\n",
    "Firu.action()\n",
    "Firu.bark()\n",
    "Firu.eat()\n",
    "Firu.make_noise()"
   ]
  },
  {
   "cell_type": "markdown",
   "metadata": {},
   "source": [
    "## **Clase Wolf**\n",
    "- **void action()**: Imprime ('{self.name} muerde y duele OUCH!')"
   ]
  },
  {
   "cell_type": "code",
   "execution_count": 29,
   "metadata": {},
   "outputs": [],
   "source": [
    "class Wolf(Animal):\n",
    "    def action(self):\n",
    "        print(f'{self.name} muerde y duele OUCH!')"
   ]
  },
  {
   "cell_type": "code",
   "execution_count": 30,
   "metadata": {},
   "outputs": [
    {
     "name": "stdout",
     "output_type": "stream",
     "text": [
      "Sparco  muerde y duele OUCH!\n",
      "Yummy yummy! esoy comiendo.\n",
      "Sparco hace Grrr.\n"
     ]
    }
   ],
   "source": [
    "Sparco = Wolf('Sparco ')\n",
    "Sparco.action()\n",
    "Sparco.eat()\n",
    "Sparco.make_noise()\n"
   ]
  },
  {
   "cell_type": "markdown",
   "metadata": {},
   "source": [
    "## **Hybrid**\n",
    "- **void action()**: Imprime: '{self.name} mueve la cola'\n",
    "                    Imprime: '{self.name} muerde y duele OUCH!'"
   ]
  },
  {
   "cell_type": "code",
   "execution_count": 33,
   "metadata": {},
   "outputs": [],
   "source": [
    "class Hybrid(Dog, Wolf):\n",
    "    def action(self):\n",
    "        super().action()\n",
    "        Wolf.action(self)"
   ]
  },
  {
   "cell_type": "code",
   "execution_count": 36,
   "metadata": {},
   "outputs": [
    {
     "name": "stdout",
     "output_type": "stream",
     "text": [
      "Princesa  mueve la cola\n",
      "Princesa  muerde y duele OUCH!\n",
      "Soy un perro y hago woof woof!\n",
      "Yummy yummy! esoy comiendo.\n",
      "Princesa hace Grrr.\n"
     ]
    }
   ],
   "source": [
    "Princesa = Hybrid('Princesa ')\n",
    "Princesa.action()\n",
    "Princesa.bark()\n",
    "Princesa.eat()\n",
    "Princesa.make_noise()\n"
   ]
  }
 ],
 "metadata": {
  "kernelspec": {
   "display_name": "Python 3",
   "language": "python",
   "name": "python3"
  },
  "language_info": {
   "codemirror_mode": {
    "name": "ipython",
    "version": 3
   },
   "file_extension": ".py",
   "mimetype": "text/x-python",
   "name": "python",
   "nbconvert_exporter": "python",
   "pygments_lexer": "ipython3",
   "version": "3.12.5"
  }
 },
 "nbformat": 4,
 "nbformat_minor": 2
}
