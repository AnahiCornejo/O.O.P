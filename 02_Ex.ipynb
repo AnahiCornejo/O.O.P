{
 "cells": [
  {
   "cell_type": "markdown",
   "metadata": {},
   "source": [
    "## Ejercicio 2"
   ]
  },
  {
   "cell_type": "markdown",
   "metadata": {},
   "source": [
    "<img src=\"Diagramas_clases/diag2.jpg\" alt=\"EX 1\" width=\"300\">\n"
   ]
  },
  {
   "cell_type": "code",
   "execution_count": 1,
   "metadata": {},
   "outputs": [],
   "source": [
    "class animal:\n",
    "    def __init__(self, name):\n",
    "        self.name = name\n",
    "    \n",
    "    def say_name(self):\n",
    "        print(f'Mi nombre es: {self.name}')\n",
    "\n",
    "    def eat(self):\n",
    "        print(f' Jummy Jummy! estoy comiendo')\n",
    "\n",
    "class Cat(animal):\n",
    "    def meow(self):\n",
    "        print('Soy un gato y hago miau')\n",
    "\n",
    "class Dog(animal):\n",
    "    def bark(self):\n",
    "        print('Soy perro y hago guaf guaf')"
   ]
  },
  {
   "cell_type": "code",
   "execution_count": 2,
   "metadata": {},
   "outputs": [
    {
     "name": "stdout",
     "output_type": "stream",
     "text": [
      "Soy perro y hago guaf guaf\n",
      " Jummy Jummy! estoy comiendo\n",
      "Mi nombre es: Solo Vino\n",
      "Soy un gato y hago miau\n",
      " Jummy Jummy! estoy comiendo\n",
      "Mi nombre es: Felix\n"
     ]
    }
   ],
   "source": [
    "Solo_Vino = Dog(\"Solo Vino\")\n",
    "Solo_Vino.bark()\n",
    "Solo_Vino.eat()\n",
    "Solo_Vino.say_name()\n",
    "\n",
    "Felix = Cat(\"Felix\")\n",
    "Felix.meow()\n",
    "Felix.eat()\n",
    "Felix.say_name()"
   ]
  }
 ],
 "metadata": {
  "kernelspec": {
   "display_name": "Python 3",
   "language": "python",
   "name": "python3"
  },
  "language_info": {
   "codemirror_mode": {
    "name": "ipython",
    "version": 3
   },
   "file_extension": ".py",
   "mimetype": "text/x-python",
   "name": "python",
   "nbconvert_exporter": "python",
   "pygments_lexer": "ipython3",
   "version": "3.12.5"
  }
 },
 "nbformat": 4,
 "nbformat_minor": 2
}
